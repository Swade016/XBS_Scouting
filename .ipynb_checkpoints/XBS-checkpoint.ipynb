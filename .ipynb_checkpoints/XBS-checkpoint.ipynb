{
 "cells": [
  {
   "cell_type": "code",
   "execution_count": 1,
   "metadata": {},
   "outputs": [],
   "source": [
    "import pandas as pd\n",
    "import numpy as np\n",
    "import bs4\n",
    "from XBS import XBS\n",
    "import Config\n",
    "from Config import Config\n",
    "from Config import Positions\n",
    "from bs4 import BeautifulSoup\n",
    "from Game import Game\n",
    "from Stats import TeamGameStat\n",
    "import Stats\n",
    "import re\n",
    "from datetime import datetime\n",
    "\n"
   ]
  },
  {
   "cell_type": "code",
   "execution_count": 2,
   "metadata": {},
   "outputs": [],
   "source": [
    "xbs = XBS()"
   ]
  },
  {
   "cell_type": "code",
   "execution_count": 3,
   "metadata": {},
   "outputs": [
    {
     "name": "stdout",
     "output_type": "stream",
     "text": [
      "moxrox,  allthway\n",
      "moxrox,  allthway\n"
     ]
    }
   ],
   "source": [
    "game = Game(4547)\n",
    "# game = Game(4561)\n",
    "# game = Game(4549)\n",
    "# game = Game(4555)\n",
    "# game = Game(4535)\n",
    "game.Get()\n"
   ]
  },
  {
   "cell_type": "code",
   "execution_count": 4,
   "metadata": {},
   "outputs": [
    {
     "name": "stdout",
     "output_type": "stream",
     "text": [
      "\n",
      "\n",
      " BEGIN GOALS! \n",
      "\n",
      "\n",
      "Period = 3\n",
      "Time = 4:50\n",
      "Scorer = FwamingDwagon12\n",
      "1A = moxrox\n",
      "2A = allthway\n",
      "GoalType = ES\n",
      "Score = 1 - 0\n",
      "\n",
      "\n",
      "Period = 3\n",
      "Time = 16:02\n",
      "Scorer = FwamingDwagon12\n",
      "1A = moxrox\n",
      "2A = \n",
      "GoalType = PP\n",
      "Score = 2 - 0\n",
      "\n",
      "\n",
      "\n",
      "\n",
      " BEGIN PENALTIES! \n",
      "\n",
      "\n",
      "Period = 1\n",
      "TimeStamp = 2:38\n",
      "Player = chalupa_battman\n",
      "Infraction = Tripping\n",
      "Major = False\n",
      "\n",
      "\n",
      "Period = 2\n",
      "TimeStamp = 17:19\n",
      "Player = levans70\n",
      "Infraction = Interference\n",
      "Major = False\n",
      "\n",
      "\n",
      "Period = 3\n",
      "TimeStamp = 15:24\n",
      "Player = chalupa_battman\n",
      "Infraction = Interference\n",
      "Major = False\n",
      "\n",
      "\n",
      "Period = 3\n",
      "TimeStamp = 19:45\n",
      "Player = FwamingDwagon12\n",
      "Infraction = Tripping\n",
      "Major = False\n",
      "\n",
      "\n"
     ]
    }
   ],
   "source": [
    "print('\\n\\n BEGIN GOALS! \\n\\n')\n",
    "for scr in game.Scoring:\n",
    "    print('Period = %d' % scr.Period)\n",
    "    print('Time = ' + scr.TimeStamp)\n",
    "    print('Scorer = ' + scr.Scorer)\n",
    "    print('1A = ' + scr.PrimaryAssist)\n",
    "    print('2A = ' + scr.SecondaryAssist)\n",
    "    print('GoalType = ' + scr.GoalType)\n",
    "    print('Score = ' + scr.Score)\n",
    "    print('\\n')\n",
    "\n",
    "print('\\n\\n BEGIN PENALTIES! \\n\\n')\n",
    "for plt in game.Penalties:\n",
    "    print('Period = %d' % plt.Period)\n",
    "    print('TimeStamp = ' + plt.TimeStamp)\n",
    "    print('Player = ' + plt.Player)\n",
    "    print('Infraction = ' + plt.Infraction)\n",
    "    print('Major = ' + str(plt.IsMajor))\n",
    "    print('\\n')"
   ]
  },
  {
   "cell_type": "code",
   "execution_count": null,
   "metadata": {},
   "outputs": [],
   "source": [
    "for index, tags in enumerate(game.HTML):\n",
    "    print(index)\n",
    "    #print(tags.get_text())\n",
    "    for ix, detail in enumerate(tags):\n",
    "        if (not isinstance(detail, bs4.element.NavigableString)):\n",
    "            dl = detail.get_text().split('\\n')\n",
    "            print('%d - %s' % (ix, dl))"
   ]
  },
  {
   "cell_type": "code",
   "execution_count": null,
   "metadata": {},
   "outputs": [],
   "source": []
  },
  {
   "cell_type": "code",
   "execution_count": null,
   "metadata": {},
   "outputs": [],
   "source": []
  },
  {
   "cell_type": "code",
   "execution_count": null,
   "metadata": {},
   "outputs": [],
   "source": [
    "txt = html[41]\n",
    "print(txt.get_text())\n"
   ]
  },
  {
   "cell_type": "code",
   "execution_count": null,
   "metadata": {},
   "outputs": [],
   "source": []
  },
  {
   "cell_type": "code",
   "execution_count": null,
   "metadata": {},
   "outputs": [],
   "source": [
    "LongTeam = {\n",
    "            'Anaheim Ducks': 1,\n",
    "            'Boston Bruins': 3,\n",
    "            'Buffalo Sabres': 4,\n",
    "            'Calgary Flames': 5,\n",
    "            'Carolina Hurricanes': 6,\n",
    "            'Chicago Blackhawks': 7,\n",
    "            'Colorado Avalanche': 8,\n",
    "            'Columbus Blue Jackets': 9,\n",
    "            'Dallas Stars': 10,\n",
    "            'Detroit Red Wings': 11,\n",
    "            'Edmonton Oilers': 12,\n",
    "            'Florida Panthers': 13,\n",
    "            'Los Angeles Kings': 14, \n",
    "            'Minnesota Wild': 15,\n",
    "            'Montreal Canadiens': 16,\n",
    "            'Nashville Predators': 17,\n",
    "            'New Jersey Devils': 18,\n",
    "            'New York Islanders': 19,\n",
    "            'New York Rangers': 20,\n",
    "            'Ottawa Senators': 21,\n",
    "            'Philadelphia Flyers': 22,\n",
    "            'Arizona Coyotes': 23,\n",
    "            'Pittsburgh Penguins': 24, \n",
    "            'San Jose Sharks': 25,\n",
    "            'St Louis Blues': 26,\n",
    "            'Tampa Bay Lightning': 27,\n",
    "            'Toronto Maple Leafs': 28,\n",
    "            'Vancouver Canucks': 29,\n",
    "            'Washington Capitals': 30,\n",
    "            'Winnepeg Jets': 34,\n",
    "            'Vegas Golden Knights': 39}"
   ]
  },
  {
   "cell_type": "code",
   "execution_count": null,
   "metadata": {},
   "outputs": [],
   "source": [
    "print(LongTeam.get('New York Islanders'))"
   ]
  },
  {
   "cell_type": "code",
   "execution_count": null,
   "metadata": {},
   "outputs": [],
   "source": []
  },
  {
   "cell_type": "code",
   "execution_count": null,
   "metadata": {},
   "outputs": [],
   "source": []
  },
  {
   "cell_type": "code",
   "execution_count": null,
   "metadata": {},
   "outputs": [],
   "source": []
  },
  {
   "cell_type": "code",
   "execution_count": null,
   "metadata": {},
   "outputs": [],
   "source": []
  },
  {
   "cell_type": "code",
   "execution_count": null,
   "metadata": {},
   "outputs": [],
   "source": []
  },
  {
   "cell_type": "code",
   "execution_count": null,
   "metadata": {},
   "outputs": [],
   "source": []
  },
  {
   "cell_type": "code",
   "execution_count": null,
   "metadata": {},
   "outputs": [],
   "source": [
    "\n",
    "\n"
   ]
  },
  {
   "cell_type": "code",
   "execution_count": null,
   "metadata": {},
   "outputs": [],
   "source": []
  },
  {
   "cell_type": "code",
   "execution_count": null,
   "metadata": {},
   "outputs": [],
   "source": []
  },
  {
   "cell_type": "code",
   "execution_count": null,
   "metadata": {},
   "outputs": [],
   "source": []
  },
  {
   "cell_type": "code",
   "execution_count": null,
   "metadata": {},
   "outputs": [],
   "source": [
    "Config.PrintObjectAttributes(game.AwayTeamStat)"
   ]
  },
  {
   "cell_type": "code",
   "execution_count": null,
   "metadata": {},
   "outputs": [],
   "source": [
    "xbs.Roster.GetAllPlayers()\n",
    "wade = xbs.Roster.FindByID(2270)\n",
    "print(wade)\n",
    "wade.GetSeasonStats()\n",
    "wade.SeasonStats.Stats"
   ]
  }
 ],
 "metadata": {
  "kernelspec": {
   "display_name": "Python 3",
   "language": "python",
   "name": "python3"
  },
  "language_info": {
   "codemirror_mode": {
    "name": "ipython",
    "version": 3
   },
   "file_extension": ".py",
   "mimetype": "text/x-python",
   "name": "python",
   "nbconvert_exporter": "python",
   "pygments_lexer": "ipython3",
   "version": "3.7.3"
  }
 },
 "nbformat": 4,
 "nbformat_minor": 4
}
