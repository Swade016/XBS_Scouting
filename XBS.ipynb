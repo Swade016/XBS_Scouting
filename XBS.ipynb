{
 "cells": [
  {
   "cell_type": "code",
   "execution_count": null,
   "metadata": {},
   "outputs": [],
   "source": [
    "import pandas as pd\n",
    "import numpy as np\n",
    "import bs4\n",
    "from XBS import XBS\n",
    "from Config import Config\n",
    "from Config import Positions\n",
    "from bs4 import BeautifulSoup\n",
    "from Game import Game\n",
    "from Stats import TeamGameStat\n",
    "import re\n",
    "from datetime import datetime"
   ]
  },
  {
   "cell_type": "code",
   "execution_count": null,
   "metadata": {},
   "outputs": [],
   "source": [
    "xbs = XBS()"
   ]
  },
  {
   "cell_type": "code",
   "execution_count": 8,
   "metadata": {},
   "outputs": [
    {
     "name": "stdout",
     "output_type": "stream",
     "text": [
      "['marine m1ke k', '2 G', '1 A', '3 Pts', '110', 'Uvealflashpoint', '1 G', '1 A', '2 Pts', '62', 'Ekion187', '2.56 GAA', '0.864 SV%', '58']\n",
      "Player 1 metric 1 = 2 G\n",
      "Player 2 metric 1 = 1 G\n",
      "Player 3 metric 1 = 2.56 GAA\n"
     ]
    }
   ],
   "source": [
    "# game = Game(4561)\n",
    "game = Game(4549)\n",
    "game.GetGameDetails()\n",
    "game.GetThreeStars()\n",
    "game.GetTeamStats()\n"
   ]
  },
  {
   "cell_type": "code",
   "execution_count": null,
   "metadata": {},
   "outputs": [],
   "source": [
    "html = game.Soup.find_all('table')\n",
    "for index, tags in enumerate(html):\n",
    "    if index >= 27:\n",
    "        print(index)\n",
    "        print(tags)\n"
   ]
  },
  {
   "cell_type": "code",
   "execution_count": 40,
   "metadata": {},
   "outputs": [
    {
     "name": "stdout",
     "output_type": "stream",
     "text": [
      "['Montreal Canadiens', 'Montreal', 'G', 'A', 'Pts.', 'PIM', 'Hits', 'Shots', '+/-', 'VIBE Beats', 'Left Wing', '0', '4', '4', '0', '0', '5', '-2', 'iJhet', 'Center', '3', '0', '3', '2', '1', '6', '-2', 'DesiredCustoms', 'Right Wing', '1', '2', '3', '0', '1', '5', '-2', 'chalupa_battman', 'Left Defense', '0', '2', '2', '0', '6', '2', '-2', 'Beernuts83', 'Goalie', '0', '0', '0', '0', '0', '0', '0', 'Sbuck 28', 'Right Defense', '0', '0', '0', '0', '3', '1', '-2', 'D-Rating', 'Team', 'Player', 'Penalty', 'Total', 'chalupa_battman', 'Left Defense', '+2', '+68', '0', '70', 'Sbuck 28', 'Right Defense', '+2', '+72', '0', '74', 'Goaltender', 'SV', 'GA', 'GAA', 'SV%', 'Beernuts83', 'Goalie', '15', '5', '5.00', '0.750', 'Arizona Coyotes', 'Arizona', 'G', 'A', 'Pts.', 'PIM', 'Hits', 'Shots', '+/-', 'zer0 pain', 'Right Wing', '3', '1', '4', '2', '0', '8', '+2', 'SoppingWetHams', 'Center', '0', '3', '3', '2', '2', '3', '+2', 'xXKH91Xx', 'Left Wing', '2', '0', '2', '0', '1', '6', '+2', 'oof Mitch', 'Left Defense', '0', '2', '2', '0', '3', '1', '+2', 'Rushpac', 'Right Defense', '0', '1', '1', '2', '4', '2', '+2', 'MentisHQ', 'Goalie', '0', '0', '0', '0', '0', '0', '0', 'D-Rating', 'Team', 'Player', 'Penalty', 'Total', 'oof Mitch', 'Left Defense', '+4', '+81', '0', '85', 'Rushpac', 'Right Defense', '+4', '+81', '-4', '81', 'Goaltender', 'SV', 'GA', 'GAA', 'SV%', 'MentisHQ', 'Goalie', '15', '4', '4.00', '0.789']\n",
      "182\n",
      "[{'Left Wing': 'VIBE Beats'}, {'Center': 'iJhet'}, {'Right Wing': 'DesiredCustoms'}, {'Left Defense': 'chalupa_battman'}, {'Goalie': 'Beernuts83'}, {'Right Defense': 'Sbuck 28'}]\n",
      "[{'Right Wing': 'zer0 pain'}, {'Center': 'SoppingWetHams'}, {'Left Wing': 'xXKH91Xx'}, {'Left Defense': 'oof Mitch'}, {'Right Defense': 'Rushpac'}, {'Goalie': 'MentisHQ'}]\n"
     ]
    }
   ],
   "source": [
    "details = html[27] \n",
    "detail_array = []\n",
    "\n",
    "for index, detail in enumerate(details):\n",
    "    if (not isinstance(detail, bs4.element.NavigableString)):\n",
    "        detail_line = detail.get_text()\n",
    "        entries = re.split(\"\\n+\", detail_line)\n",
    "        \n",
    "        for entry in entries:\n",
    "            if not (entry.strip('\\t') in ('', 'Rating', 'Three Stars of the Game', 'Game Leaders')):\n",
    "                detail_array += [entry.replace('\\xa0', '').strip()]\n",
    "            else: \n",
    "                continue\n",
    "\n",
    "print(detail_array)\n",
    "print(len(detail_array))\n",
    "\n",
    "a1 = {detail_array[10]: detail_array[9]}\n",
    "a2 = {detail_array[19]: detail_array[18]}\n",
    "a3 = {detail_array[28]: detail_array[27]}\n",
    "a4 = {detail_array[37]: detail_array[36]}\n",
    "a5 = {detail_array[46]: detail_array[45]}\n",
    "a6 = {detail_array[55]: detail_array[54]}\n",
    "AwayTeam = [a1, a2, a3, a4, a5, a6]\n",
    "\n",
    "h1 = {detail_array[101]: detail_array[100]}\n",
    "h2 = {detail_array[110]: detail_array[109]}\n",
    "h3 = {detail_array[119]: detail_array[118]}\n",
    "h4 = {detail_array[128]: detail_array[127]}\n",
    "h5 = {detail_array[137]: detail_array[136]}\n",
    "h6 = {detail_array[146]: detail_array[145]}\n",
    "HomeTeam = [h1, h2, h3, h4, h5, h6]\n",
    "\n",
    "print(AwayTeam)\n",
    "print(HomeTeam)\n",
    "\n",
    "\n"
   ]
  },
  {
   "cell_type": "code",
   "execution_count": null,
   "metadata": {},
   "outputs": [],
   "source": []
  },
  {
   "cell_type": "code",
   "execution_count": null,
   "metadata": {},
   "outputs": [],
   "source": []
  },
  {
   "cell_type": "code",
   "execution_count": null,
   "metadata": {},
   "outputs": [],
   "source": []
  },
  {
   "cell_type": "code",
   "execution_count": null,
   "metadata": {},
   "outputs": [],
   "source": []
  },
  {
   "cell_type": "code",
   "execution_count": null,
   "metadata": {},
   "outputs": [],
   "source": []
  },
  {
   "cell_type": "code",
   "execution_count": null,
   "metadata": {},
   "outputs": [],
   "source": []
  },
  {
   "cell_type": "code",
   "execution_count": null,
   "metadata": {},
   "outputs": [],
   "source": []
  },
  {
   "cell_type": "code",
   "execution_count": null,
   "metadata": {},
   "outputs": [],
   "source": []
  },
  {
   "cell_type": "code",
   "execution_count": null,
   "metadata": {},
   "outputs": [],
   "source": []
  },
  {
   "cell_type": "code",
   "execution_count": null,
   "metadata": {},
   "outputs": [],
   "source": [
    "\n",
    "\n"
   ]
  },
  {
   "cell_type": "code",
   "execution_count": null,
   "metadata": {},
   "outputs": [],
   "source": []
  },
  {
   "cell_type": "code",
   "execution_count": null,
   "metadata": {},
   "outputs": [],
   "source": []
  },
  {
   "cell_type": "code",
   "execution_count": null,
   "metadata": {},
   "outputs": [],
   "source": []
  },
  {
   "cell_type": "code",
   "execution_count": null,
   "metadata": {},
   "outputs": [],
   "source": []
  },
  {
   "cell_type": "code",
   "execution_count": null,
   "metadata": {},
   "outputs": [],
   "source": [
    "xbs.Roster.GetAllPlayers()\n",
    "wade = xbs.Roster.FindByID(2270)\n",
    "print(wade)\n",
    "wade.GetSeasonStats()\n",
    "wade.SeasonStats.Stats"
   ]
  }
 ],
 "metadata": {
  "kernelspec": {
   "display_name": "Python 3",
   "language": "python",
   "name": "python3"
  },
  "language_info": {
   "codemirror_mode": {
    "name": "ipython",
    "version": 3
   },
   "file_extension": ".py",
   "mimetype": "text/x-python",
   "name": "python",
   "nbconvert_exporter": "python",
   "pygments_lexer": "ipython3",
   "version": "3.7.1"
  }
 },
 "nbformat": 4,
 "nbformat_minor": 4
}
